{
 "cells": [
  {
   "cell_type": "code",
   "execution_count": 1,
   "metadata": {},
   "outputs": [],
   "source": [
    "import pandas as pd\n",
    "import numpy as np\n",
    "import seaborn as sns\n",
    "import matplotlib.pyplot as plt\n",
    "from sklearn.model_selection import train_test_split\n",
    "from sklearn.preprocessing import LabelEncoder, StandardScaler\n",
    "from sklearn.metrics import accuracy_score, classification_report, confusion_matrix\n",
    "from imblearn.over_sampling import SMOTE\n",
    "from sklearn.model_selection import GridSearchCV\n",
    "from sklearn.ensemble import RandomForestClassifier\n",
    "import tensorflow as tf\n",
    "from tensorflow.keras.models import Sequential\n",
    "from tensorflow.keras.layers import Dense, Dropout\n",
    "import joblib\n",
    "import warnings\n",
    "warnings.filterwarnings(\"ignore\")"
   ]
  },
  {
   "cell_type": "code",
   "execution_count": 2,
   "metadata": {},
   "outputs": [
    {
     "name": "stdout",
     "output_type": "stream",
     "text": [
      "Dataset Shape: (20000, 22)\n"
     ]
    }
   ],
   "source": [
    "df = pd.read_csv(\"train.csv\")\n",
    "print(\"Dataset Shape:\", df.shape)"
   ]
  },
  {
   "cell_type": "code",
   "execution_count": 3,
   "metadata": {},
   "outputs": [],
   "source": [
    "df.fillna({\n",
    "    \"Cross_Street\": \"Unknown\",\n",
    "    \"Weapon_Used_Code\": df[\"Weapon_Used_Code\"].median(),\n",
    "    \"Weapon_Description\": \"Unknown\",\n",
    "    \"Victim_Age\": df[\"Victim_Age\"].median(),\n",
    "    \"Victim_Sex\": \"Unknown\",\n",
    "    \"Victim_Descent\": \"Unknown\",\n",
    "}, inplace=True)"
   ]
  },
  {
   "cell_type": "code",
   "execution_count": 4,
   "metadata": {},
   "outputs": [],
   "source": [
    "df[\"Date_Occurred\"] = pd.to_datetime(df[\"Date_Occurred\"], errors='coerce')\n",
    "df[\"Hour\"] = df[\"Time_Occurred\"] // 100\n",
    "df.drop(columns=[\"Date_Reported\", \"Date_Occurred\", \"Time_Occurred\"], inplace=True)"
   ]
  },
  {
   "cell_type": "code",
   "execution_count": 5,
   "metadata": {},
   "outputs": [],
   "source": [
    "label_encoders = {}\n",
    "categorical_cols = [\"Crime_Category\"]\n",
    "for col in categorical_cols:\n",
    "    le = LabelEncoder()\n",
    "    df[col] = le.fit_transform(df[col])\n",
    "    label_encoders[col] = le"
   ]
  },
  {
   "cell_type": "code",
   "execution_count": 6,
   "metadata": {},
   "outputs": [],
   "source": [
    "df = df[[\"Longitude\", \"Latitude\", \"Hour\", \"Crime_Category\"]]"
   ]
  },
  {
   "cell_type": "code",
   "execution_count": 7,
   "metadata": {},
   "outputs": [],
   "source": [
    "X, y = df.drop(columns=['Crime_Category']), df['Crime_Category']\n",
    "smote = SMOTE(sampling_strategy='auto', random_state=42)\n",
    "X_resampled, y_resampled = smote.fit_resample(X, y)"
   ]
  },
  {
   "cell_type": "code",
   "execution_count": 8,
   "metadata": {},
   "outputs": [],
   "source": [
    "scaler = StandardScaler()\n",
    "X_scaled = scaler.fit_transform(X_resampled)"
   ]
  },
  {
   "cell_type": "code",
   "execution_count": 9,
   "metadata": {},
   "outputs": [
    {
     "name": "stdout",
     "output_type": "stream",
     "text": [
      "Fitting 3 folds for each of 18 candidates, totalling 54 fits\n",
      "Best Random Forest parameters: {'max_depth': 30, 'min_samples_split': 2, 'n_estimators': 200}\n"
     ]
    }
   ],
   "source": [
    "rf = RandomForestClassifier(random_state=42)\n",
    "param_grid = {\n",
    "    'n_estimators': [100, 200],\n",
    "    'max_depth': [10, 20, 30],\n",
    "    'min_samples_split': [2, 5, 10]\n",
    "}\n",
    "grid_search_rf = GridSearchCV(rf, param_grid, scoring='accuracy', cv=3, verbose=1)\n",
    "grid_search_rf.fit(X_scaled, y_resampled)\n",
    "print(\"Best Random Forest parameters:\", grid_search_rf.best_params_)"
   ]
  },
  {
   "cell_type": "code",
   "execution_count": 10,
   "metadata": {},
   "outputs": [
    {
     "name": "stdout",
     "output_type": "stream",
     "text": [
      "Random Forest Accuracy: 0.9946996971255501\n",
      "              precision    recall  f1-score   support\n",
      "\n",
      "           0       1.00      1.00      1.00     11666\n",
      "           1       0.99      1.00      1.00     11666\n",
      "           2       1.00      1.00      1.00     11666\n",
      "           3       1.00      1.00      1.00     11666\n",
      "           4       0.99      0.99      0.99     11666\n",
      "           5       0.99      0.99      0.99     11666\n",
      "\n",
      "    accuracy                           0.99     69996\n",
      "   macro avg       0.99      0.99      0.99     69996\n",
      "weighted avg       0.99      0.99      0.99     69996\n",
      "\n"
     ]
    }
   ],
   "source": [
    "best_rf = grid_search_rf.best_estimator_\n",
    "best_rf.fit(X_scaled, y_resampled)\n",
    "y_pred_rf = best_rf.predict(X_scaled)\n",
    "print(\"Random Forest Accuracy:\", accuracy_score(y_resampled, y_pred_rf))\n",
    "print(classification_report(y_resampled, y_pred_rf))"
   ]
  },
  {
   "cell_type": "code",
   "execution_count": 11,
   "metadata": {},
   "outputs": [
    {
     "name": "stdout",
     "output_type": "stream",
     "text": [
      "Epoch 1/50\n",
      "\u001b[1m1750/1750\u001b[0m \u001b[32m━━━━━━━━━━━━━━━━━━━━\u001b[0m\u001b[37m\u001b[0m \u001b[1m3s\u001b[0m 1ms/step - accuracy: 0.2463 - loss: 1.7184 - val_accuracy: 0.0000e+00 - val_loss: 2.4546\n",
      "Epoch 2/50\n",
      "\u001b[1m1750/1750\u001b[0m \u001b[32m━━━━━━━━━━━━━━━━━━━━\u001b[0m\u001b[37m\u001b[0m \u001b[1m2s\u001b[0m 1ms/step - accuracy: 0.2636 - loss: 1.6985 - val_accuracy: 0.0000e+00 - val_loss: 2.4170\n",
      "Epoch 3/50\n",
      "\u001b[1m1750/1750\u001b[0m \u001b[32m━━━━━━━━━━━━━━━━━━━━\u001b[0m\u001b[37m\u001b[0m \u001b[1m2s\u001b[0m 1ms/step - accuracy: 0.2638 - loss: 1.6933 - val_accuracy: 0.0000e+00 - val_loss: 2.4280\n",
      "Epoch 4/50\n",
      "\u001b[1m1750/1750\u001b[0m \u001b[32m━━━━━━━━━━━━━━━━━━━━\u001b[0m\u001b[37m\u001b[0m \u001b[1m2s\u001b[0m 1ms/step - accuracy: 0.2710 - loss: 1.6866 - val_accuracy: 0.0000e+00 - val_loss: 2.4794\n",
      "Epoch 5/50\n",
      "\u001b[1m1750/1750\u001b[0m \u001b[32m━━━━━━━━━━━━━━━━━━━━\u001b[0m\u001b[37m\u001b[0m \u001b[1m2s\u001b[0m 1ms/step - accuracy: 0.2747 - loss: 1.6811 - val_accuracy: 0.0000e+00 - val_loss: 2.4349\n",
      "Epoch 6/50\n",
      "\u001b[1m1750/1750\u001b[0m \u001b[32m━━━━━━━━━━━━━━━━━━━━\u001b[0m\u001b[37m\u001b[0m \u001b[1m2s\u001b[0m 1ms/step - accuracy: 0.2794 - loss: 1.6771 - val_accuracy: 0.0000e+00 - val_loss: 2.4389\n",
      "Epoch 7/50\n",
      "\u001b[1m1750/1750\u001b[0m \u001b[32m━━━━━━━━━━━━━━━━━━━━\u001b[0m\u001b[37m\u001b[0m \u001b[1m3s\u001b[0m 1ms/step - accuracy: 0.2826 - loss: 1.6763 - val_accuracy: 0.0000e+00 - val_loss: 2.4282\n",
      "Epoch 8/50\n",
      "\u001b[1m1750/1750\u001b[0m \u001b[32m━━━━━━━━━━━━━━━━━━━━\u001b[0m\u001b[37m\u001b[0m \u001b[1m2s\u001b[0m 1ms/step - accuracy: 0.2821 - loss: 1.6773 - val_accuracy: 0.0000e+00 - val_loss: 2.4552\n",
      "Epoch 9/50\n",
      "\u001b[1m1750/1750\u001b[0m \u001b[32m━━━━━━━━━━━━━━━━━━━━\u001b[0m\u001b[37m\u001b[0m \u001b[1m2s\u001b[0m 1ms/step - accuracy: 0.2861 - loss: 1.6691 - val_accuracy: 0.0000e+00 - val_loss: 2.4256\n",
      "Epoch 10/50\n",
      "\u001b[1m1750/1750\u001b[0m \u001b[32m━━━━━━━━━━━━━━━━━━━━\u001b[0m\u001b[37m\u001b[0m \u001b[1m2s\u001b[0m 1ms/step - accuracy: 0.2893 - loss: 1.6740 - val_accuracy: 0.0000e+00 - val_loss: 2.4681\n",
      "Epoch 11/50\n",
      "\u001b[1m1750/1750\u001b[0m \u001b[32m━━━━━━━━━━━━━━━━━━━━\u001b[0m\u001b[37m\u001b[0m \u001b[1m2s\u001b[0m 1ms/step - accuracy: 0.2887 - loss: 1.6692 - val_accuracy: 0.0000e+00 - val_loss: 2.4066\n",
      "Epoch 12/50\n",
      "\u001b[1m1750/1750\u001b[0m \u001b[32m━━━━━━━━━━━━━━━━━━━━\u001b[0m\u001b[37m\u001b[0m \u001b[1m2s\u001b[0m 1ms/step - accuracy: 0.2898 - loss: 1.6671 - val_accuracy: 0.0000e+00 - val_loss: 2.4012\n",
      "Epoch 13/50\n",
      "\u001b[1m1750/1750\u001b[0m \u001b[32m━━━━━━━━━━━━━━━━━━━━\u001b[0m\u001b[37m\u001b[0m \u001b[1m2s\u001b[0m 1ms/step - accuracy: 0.2970 - loss: 1.6631 - val_accuracy: 0.0000e+00 - val_loss: 2.4196\n",
      "Epoch 14/50\n",
      "\u001b[1m1750/1750\u001b[0m \u001b[32m━━━━━━━━━━━━━━━━━━━━\u001b[0m\u001b[37m\u001b[0m \u001b[1m2s\u001b[0m 1ms/step - accuracy: 0.2970 - loss: 1.6618 - val_accuracy: 0.0000e+00 - val_loss: 2.4032\n",
      "Epoch 15/50\n",
      "\u001b[1m1750/1750\u001b[0m \u001b[32m━━━━━━━━━━━━━━━━━━━━\u001b[0m\u001b[37m\u001b[0m \u001b[1m2s\u001b[0m 1ms/step - accuracy: 0.2983 - loss: 1.6593 - val_accuracy: 0.0000e+00 - val_loss: 2.4325\n",
      "Epoch 16/50\n",
      "\u001b[1m1750/1750\u001b[0m \u001b[32m━━━━━━━━━━━━━━━━━━━━\u001b[0m\u001b[37m\u001b[0m \u001b[1m2s\u001b[0m 1ms/step - accuracy: 0.2951 - loss: 1.6608 - val_accuracy: 0.0063 - val_loss: 2.3923\n",
      "Epoch 17/50\n",
      "\u001b[1m1750/1750\u001b[0m \u001b[32m━━━━━━━━━━━━━━━━━━━━\u001b[0m\u001b[37m\u001b[0m \u001b[1m2s\u001b[0m 1ms/step - accuracy: 0.3020 - loss: 1.6596 - val_accuracy: 0.0000e+00 - val_loss: 2.3996\n",
      "Epoch 18/50\n",
      "\u001b[1m1750/1750\u001b[0m \u001b[32m━━━━━━━━━━━━━━━━━━━━\u001b[0m\u001b[37m\u001b[0m \u001b[1m2s\u001b[0m 1ms/step - accuracy: 0.2969 - loss: 1.6607 - val_accuracy: 0.0000e+00 - val_loss: 2.4250\n",
      "Epoch 19/50\n",
      "\u001b[1m1750/1750\u001b[0m \u001b[32m━━━━━━━━━━━━━━━━━━━━\u001b[0m\u001b[37m\u001b[0m \u001b[1m2s\u001b[0m 1ms/step - accuracy: 0.3014 - loss: 1.6561 - val_accuracy: 0.0000e+00 - val_loss: 2.3793\n",
      "Epoch 20/50\n",
      "\u001b[1m1750/1750\u001b[0m \u001b[32m━━━━━━━━━━━━━━━━━━━━\u001b[0m\u001b[37m\u001b[0m \u001b[1m2s\u001b[0m 1ms/step - accuracy: 0.3013 - loss: 1.6562 - val_accuracy: 0.0000e+00 - val_loss: 2.3996\n",
      "Epoch 21/50\n",
      "\u001b[1m1750/1750\u001b[0m \u001b[32m━━━━━━━━━━━━━━━━━━━━\u001b[0m\u001b[37m\u001b[0m \u001b[1m2s\u001b[0m 1ms/step - accuracy: 0.3044 - loss: 1.6568 - val_accuracy: 0.0000e+00 - val_loss: 2.4019\n",
      "Epoch 22/50\n",
      "\u001b[1m1750/1750\u001b[0m \u001b[32m━━━━━━━━━━━━━━━━━━━━\u001b[0m\u001b[37m\u001b[0m \u001b[1m2s\u001b[0m 1ms/step - accuracy: 0.3058 - loss: 1.6521 - val_accuracy: 0.0067 - val_loss: 2.3940\n",
      "Epoch 23/50\n",
      "\u001b[1m1750/1750\u001b[0m \u001b[32m━━━━━━━━━━━━━━━━━━━━\u001b[0m\u001b[37m\u001b[0m \u001b[1m2s\u001b[0m 1ms/step - accuracy: 0.3062 - loss: 1.6573 - val_accuracy: 0.0000e+00 - val_loss: 2.4007\n",
      "Epoch 24/50\n",
      "\u001b[1m1750/1750\u001b[0m \u001b[32m━━━━━━━━━━━━━━━━━━━━\u001b[0m\u001b[37m\u001b[0m \u001b[1m2s\u001b[0m 1ms/step - accuracy: 0.3040 - loss: 1.6513 - val_accuracy: 0.0000e+00 - val_loss: 2.3743\n",
      "Epoch 25/50\n",
      "\u001b[1m1750/1750\u001b[0m \u001b[32m━━━━━━━━━━━━━━━━━━━━\u001b[0m\u001b[37m\u001b[0m \u001b[1m2s\u001b[0m 1ms/step - accuracy: 0.3046 - loss: 1.6501 - val_accuracy: 0.0000e+00 - val_loss: 2.4062\n",
      "Epoch 26/50\n",
      "\u001b[1m1750/1750\u001b[0m \u001b[32m━━━━━━━━━━━━━━━━━━━━\u001b[0m\u001b[37m\u001b[0m \u001b[1m2s\u001b[0m 1ms/step - accuracy: 0.3083 - loss: 1.6481 - val_accuracy: 0.0000e+00 - val_loss: 2.4322\n",
      "Epoch 27/50\n",
      "\u001b[1m1750/1750\u001b[0m \u001b[32m━━━━━━━━━━━━━━━━━━━━\u001b[0m\u001b[37m\u001b[0m \u001b[1m2s\u001b[0m 1ms/step - accuracy: 0.3130 - loss: 1.6455 - val_accuracy: 0.0000e+00 - val_loss: 2.3752\n",
      "Epoch 28/50\n",
      "\u001b[1m1750/1750\u001b[0m \u001b[32m━━━━━━━━━━━━━━━━━━━━\u001b[0m\u001b[37m\u001b[0m \u001b[1m2s\u001b[0m 1ms/step - accuracy: 0.3092 - loss: 1.6512 - val_accuracy: 0.0000e+00 - val_loss: 2.4161\n",
      "Epoch 29/50\n",
      "\u001b[1m1750/1750\u001b[0m \u001b[32m━━━━━━━━━━━━━━━━━━━━\u001b[0m\u001b[37m\u001b[0m \u001b[1m2s\u001b[0m 1ms/step - accuracy: 0.3092 - loss: 1.6467 - val_accuracy: 0.0000e+00 - val_loss: 2.3943\n",
      "Epoch 30/50\n",
      "\u001b[1m1750/1750\u001b[0m \u001b[32m━━━━━━━━━━━━━━━━━━━━\u001b[0m\u001b[37m\u001b[0m \u001b[1m2s\u001b[0m 1ms/step - accuracy: 0.3118 - loss: 1.6482 - val_accuracy: 0.0000e+00 - val_loss: 2.3842\n",
      "Epoch 31/50\n",
      "\u001b[1m1750/1750\u001b[0m \u001b[32m━━━━━━━━━━━━━━━━━━━━\u001b[0m\u001b[37m\u001b[0m \u001b[1m2s\u001b[0m 1ms/step - accuracy: 0.3111 - loss: 1.6464 - val_accuracy: 0.0000e+00 - val_loss: 2.4110\n",
      "Epoch 32/50\n",
      "\u001b[1m1750/1750\u001b[0m \u001b[32m━━━━━━━━━━━━━━━━━━━━\u001b[0m\u001b[37m\u001b[0m \u001b[1m2s\u001b[0m 1ms/step - accuracy: 0.3130 - loss: 1.6419 - val_accuracy: 0.0000e+00 - val_loss: 2.3974\n",
      "Epoch 33/50\n",
      "\u001b[1m1750/1750\u001b[0m \u001b[32m━━━━━━━━━━━━━━━━━━━━\u001b[0m\u001b[37m\u001b[0m \u001b[1m2s\u001b[0m 1ms/step - accuracy: 0.3131 - loss: 1.6429 - val_accuracy: 0.0000e+00 - val_loss: 2.4092\n",
      "Epoch 34/50\n",
      "\u001b[1m1750/1750\u001b[0m \u001b[32m━━━━━━━━━━━━━━━━━━━━\u001b[0m\u001b[37m\u001b[0m \u001b[1m2s\u001b[0m 1ms/step - accuracy: 0.3117 - loss: 1.6433 - val_accuracy: 0.0000e+00 - val_loss: 2.3794\n",
      "Epoch 35/50\n",
      "\u001b[1m1750/1750\u001b[0m \u001b[32m━━━━━━━━━━━━━━━━━━━━\u001b[0m\u001b[37m\u001b[0m \u001b[1m2s\u001b[0m 1ms/step - accuracy: 0.3124 - loss: 1.6424 - val_accuracy: 0.0000e+00 - val_loss: 2.3491\n",
      "Epoch 36/50\n",
      "\u001b[1m1750/1750\u001b[0m \u001b[32m━━━━━━━━━━━━━━━━━━━━\u001b[0m\u001b[37m\u001b[0m \u001b[1m2s\u001b[0m 1ms/step - accuracy: 0.3135 - loss: 1.6384 - val_accuracy: 0.0000e+00 - val_loss: 2.3857\n",
      "Epoch 37/50\n",
      "\u001b[1m1750/1750\u001b[0m \u001b[32m━━━━━━━━━━━━━━━━━━━━\u001b[0m\u001b[37m\u001b[0m \u001b[1m2s\u001b[0m 1ms/step - accuracy: 0.3141 - loss: 1.6384 - val_accuracy: 0.0000e+00 - val_loss: 2.3781\n",
      "Epoch 38/50\n",
      "\u001b[1m1750/1750\u001b[0m \u001b[32m━━━━━━━━━━━━━━━━━━━━\u001b[0m\u001b[37m\u001b[0m \u001b[1m2s\u001b[0m 1ms/step - accuracy: 0.3145 - loss: 1.6385 - val_accuracy: 0.0000e+00 - val_loss: 2.4359\n",
      "Epoch 39/50\n",
      "\u001b[1m1750/1750\u001b[0m \u001b[32m━━━━━━━━━━━━━━━━━━━━\u001b[0m\u001b[37m\u001b[0m \u001b[1m2s\u001b[0m 1ms/step - accuracy: 0.3169 - loss: 1.6341 - val_accuracy: 0.0000e+00 - val_loss: 2.4116\n",
      "Epoch 40/50\n",
      "\u001b[1m1750/1750\u001b[0m \u001b[32m━━━━━━━━━━━━━━━━━━━━\u001b[0m\u001b[37m\u001b[0m \u001b[1m2s\u001b[0m 1ms/step - accuracy: 0.3152 - loss: 1.6364 - val_accuracy: 0.0000e+00 - val_loss: 2.4122\n",
      "Epoch 41/50\n",
      "\u001b[1m1750/1750\u001b[0m \u001b[32m━━━━━━━━━━━━━━━━━━━━\u001b[0m\u001b[37m\u001b[0m \u001b[1m2s\u001b[0m 1ms/step - accuracy: 0.3144 - loss: 1.6337 - val_accuracy: 0.0000e+00 - val_loss: 2.3710\n",
      "Epoch 42/50\n",
      "\u001b[1m1750/1750\u001b[0m \u001b[32m━━━━━━━━━━━━━━━━━━━━\u001b[0m\u001b[37m\u001b[0m \u001b[1m2s\u001b[0m 1ms/step - accuracy: 0.3189 - loss: 1.6322 - val_accuracy: 0.0016 - val_loss: 2.3617\n",
      "Epoch 43/50\n",
      "\u001b[1m1750/1750\u001b[0m \u001b[32m━━━━━━━━━━━━━━━━━━━━\u001b[0m\u001b[37m\u001b[0m \u001b[1m2s\u001b[0m 1ms/step - accuracy: 0.3197 - loss: 1.6332 - val_accuracy: 0.0000e+00 - val_loss: 2.3623\n",
      "Epoch 44/50\n",
      "\u001b[1m1750/1750\u001b[0m \u001b[32m━━━━━━━━━━━━━━━━━━━━\u001b[0m\u001b[37m\u001b[0m \u001b[1m2s\u001b[0m 1ms/step - accuracy: 0.3181 - loss: 1.6313 - val_accuracy: 0.0000e+00 - val_loss: 2.3721\n",
      "Epoch 45/50\n",
      "\u001b[1m1750/1750\u001b[0m \u001b[32m━━━━━━━━━━━━━━━━━━━━\u001b[0m\u001b[37m\u001b[0m \u001b[1m2s\u001b[0m 976us/step - accuracy: 0.3193 - loss: 1.6284 - val_accuracy: 0.0000e+00 - val_loss: 2.3893\n",
      "Epoch 46/50\n",
      "\u001b[1m1750/1750\u001b[0m \u001b[32m━━━━━━━━━━━━━━━━━━━━\u001b[0m\u001b[37m\u001b[0m \u001b[1m2s\u001b[0m 1ms/step - accuracy: 0.3215 - loss: 1.6251 - val_accuracy: 0.0000e+00 - val_loss: 2.3953\n",
      "Epoch 47/50\n",
      "\u001b[1m1750/1750\u001b[0m \u001b[32m━━━━━━━━━━━━━━━━━━━━\u001b[0m\u001b[37m\u001b[0m \u001b[1m2s\u001b[0m 1ms/step - accuracy: 0.3232 - loss: 1.6250 - val_accuracy: 0.0000e+00 - val_loss: 2.4244\n",
      "Epoch 48/50\n",
      "\u001b[1m1750/1750\u001b[0m \u001b[32m━━━━━━━━━━━━━━━━━━━━\u001b[0m\u001b[37m\u001b[0m \u001b[1m2s\u001b[0m 1ms/step - accuracy: 0.3202 - loss: 1.6291 - val_accuracy: 0.0000e+00 - val_loss: 2.3867\n",
      "Epoch 49/50\n",
      "\u001b[1m1750/1750\u001b[0m \u001b[32m━━━━━━━━━━━━━━━━━━━━\u001b[0m\u001b[37m\u001b[0m \u001b[1m2s\u001b[0m 1ms/step - accuracy: 0.3263 - loss: 1.6241 - val_accuracy: 0.0000e+00 - val_loss: 2.3848\n",
      "Epoch 50/50\n",
      "\u001b[1m1750/1750\u001b[0m \u001b[32m━━━━━━━━━━━━━━━━━━━━\u001b[0m\u001b[37m\u001b[0m \u001b[1m2s\u001b[0m 1ms/step - accuracy: 0.3221 - loss: 1.6283 - val_accuracy: 0.0000e+00 - val_loss: 2.4113\n"
     ]
    }
   ],
   "source": [
    "mlp_model = Sequential([\n",
    "    Dense(128, activation='relu', input_shape=(X_scaled.shape[1],)),\n",
    "    Dropout(0.3),\n",
    "    Dense(64, activation='relu'),\n",
    "    Dropout(0.3),\n",
    "    Dense(len(set(y_resampled)), activation='softmax')\n",
    "])\n",
    "mlp_model.compile(optimizer='adam', loss='sparse_categorical_crossentropy', metrics=['accuracy'])\n",
    "history = mlp_model.fit(X_scaled, y_resampled, epochs=50, batch_size=32, validation_split=0.2)"
   ]
  },
  {
   "cell_type": "code",
   "execution_count": 12,
   "metadata": {},
   "outputs": [
    {
     "name": "stdout",
     "output_type": "stream",
     "text": [
      "\u001b[1m2188/2188\u001b[0m \u001b[32m━━━━━━━━━━━━━━━━━━━━\u001b[0m\u001b[37m\u001b[0m \u001b[1m1s\u001b[0m 625us/step\n",
      "MLP Accuracy: 0.27110120578318764\n",
      "              precision    recall  f1-score   support\n",
      "\n",
      "           0       0.31      0.51      0.38     11666\n",
      "           1       0.28      0.10      0.15     11666\n",
      "           2       0.28      0.59      0.38     11666\n",
      "           3       0.00      0.00      0.00     11666\n",
      "           4       0.22      0.43      0.29     11666\n",
      "           5       0.00      0.00      0.00     11666\n",
      "\n",
      "    accuracy                           0.27     69996\n",
      "   macro avg       0.18      0.27      0.20     69996\n",
      "weighted avg       0.18      0.27      0.20     69996\n",
      "\n"
     ]
    }
   ],
   "source": [
    "y_pred_mlp = np.argmax(mlp_model.predict(X_scaled), axis=1)\n",
    "print(\"MLP Accuracy:\", accuracy_score(y_resampled, y_pred_mlp))\n",
    "print(classification_report(y_resampled, y_pred_mlp))"
   ]
  },
  {
   "cell_type": "code",
   "execution_count": 14,
   "metadata": {},
   "outputs": [
    {
     "name": "stdout",
     "output_type": "stream",
     "text": [
      "Models, scaler, and label encoders saved successfully!\n"
     ]
    }
   ],
   "source": [
    "joblib.dump(best_rf, \"random_forest_model.joblib\")\n",
    "mlp_model.save(\"mlp_modelrf.keras\")\n",
    "joblib.dump(scaler, \"scalerrf.joblib\")\n",
    "joblib.dump(label_encoders, \"label_encodersrf.joblib\")\n",
    "print(\"Models, scaler, and label encoders saved successfully!\")"
   ]
  }
 ],
 "metadata": {
  "kernelspec": {
   "display_name": "Python 3",
   "language": "python",
   "name": "python3"
  },
  "language_info": {
   "codemirror_mode": {
    "name": "ipython",
    "version": 3
   },
   "file_extension": ".py",
   "mimetype": "text/x-python",
   "name": "python",
   "nbconvert_exporter": "python",
   "pygments_lexer": "ipython3",
   "version": "3.12.9"
  }
 },
 "nbformat": 4,
 "nbformat_minor": 2
}
